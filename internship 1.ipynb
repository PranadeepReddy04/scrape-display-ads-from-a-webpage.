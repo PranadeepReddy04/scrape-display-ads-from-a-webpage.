{
 "cells": [
  {
   "cell_type": "code",
   "execution_count": 2,
   "id": "f3a620bf",
   "metadata": {},
   "outputs": [],
   "source": [
    "import requests\n",
    "from bs4 import BeautifulSoup\n",
    "import csv\n",
    "\n",
    "URL = \"http://www.values.com/inspirational-quotes\"\n",
    "r = requests.get(URL)\n",
    "\n",
    "soup = BeautifulSoup(r.content, 'html5lib')\n",
    "\n",
    "quotes=[] \n",
    "\n",
    "table = soup.find('div', attrs = {'id':'all_quotes'})\n",
    "\n",
    "for row in table.findAll('div',\n",
    "\t\t\t\t\t\tattrs = {'class':'col-6 col-lg-3 text-center margin-30px-bottom sm-margin-30px-top'}):\n",
    "\tquote = {}\n",
    "\tquote['theme'] = row.h5.text\n",
    "\tquote['url'] = row.a['href']\n",
    "\tquote['img'] = row.img['src']\n",
    "\tquote['lines'] = row.img['alt'].split(\" #\")[0]\n",
    "\tquote['author'] = row.img['alt'].split(\" #\")[1]\n",
    "\tquotes.append(quote)\n",
    "\n",
    "filename = 'inspirational_quotes.csv'\n",
    "with open(filename, 'w', newline='') as f:\n",
    "\tw = csv.DictWriter(f,['theme','url','img','lines','author'])\n",
    "\tw.writeheader()\n",
    "\tfor quote in quotes:\n",
    "\t\tw.writerow(quote)\n"
   ]
  },
  {
   "cell_type": "code",
   "execution_count": null,
   "id": "399960e4",
   "metadata": {},
   "outputs": [],
   "source": []
  }
 ],
 "metadata": {
  "kernelspec": {
   "display_name": "Python 3",
   "language": "python",
   "name": "python3"
  },
  "language_info": {
   "codemirror_mode": {
    "name": "ipython",
    "version": 3
   },
   "file_extension": ".py",
   "mimetype": "text/x-python",
   "name": "python",
   "nbconvert_exporter": "python",
   "pygments_lexer": "ipython3",
   "version": "3.8.8"
  }
 },
 "nbformat": 4,
 "nbformat_minor": 5
}
